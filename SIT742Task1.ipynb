{
  "nbformat": 4,
  "nbformat_minor": 0,
  "metadata": {
    "colab": {
      "provenance": [],
      "collapsed_sections": [],
      "authorship_tag": "ABX9TyOGeWkthcDRyxkFtSn6s/ZM",
      "include_colab_link": true
    },
    "kernelspec": {
      "name": "python3",
      "display_name": "Python 3"
    },
    "language_info": {
      "name": "python"
    }
  },
  "cells": [
    {
      "cell_type": "markdown",
      "metadata": {
        "id": "view-in-github",
        "colab_type": "text"
      },
      "source": [
        "<a href=\"https://colab.research.google.com/github/tinku2603/MDS_Deakin/blob/main/SIT742Task1.ipynb\" target=\"_parent\"><img src=\"https://colab.research.google.com/assets/colab-badge.svg\" alt=\"Open In Colab\"/></a>"
      ]
    },
    {
      "cell_type": "markdown",
      "source": [
        "**Student ID : 223019179**\n",
        "\n",
        "**Student Name : Srinath K**\n",
        "\n",
        "**Attempted High Distinction question : Yes**  "
      ],
      "metadata": {
        "id": "hcd-fMz3oIPM"
      }
    },
    {
      "cell_type": "code",
      "source": [
        "### Importing all necessary libraries for SIT742Task1\n",
        "\n",
        "import re\n",
        "\n",
        "import numpy as np\n",
        "import pandas as pd\n",
        "import matplotlib.pyplot as plt\n",
        "import seaborn as sns\n",
        "%matplotlib inline\n"
      ],
      "metadata": {
        "id": "3CBTpeIYicx5"
      },
      "execution_count": 57,
      "outputs": []
    },
    {
      "cell_type": "markdown",
      "source": [
        "# **Part 1**"
      ],
      "metadata": {
        "id": "NYDgavyYowAJ"
      }
    },
    {
      "cell_type": "markdown",
      "source": [
        "\n",
        "\n",
        " > ## **Answer 1.1**\n"
      ],
      "metadata": {
        "id": "tejMtRiNo0zJ"
      }
    },
    {
      "cell_type": "markdown",
      "source": [
        ">> Defination of Median: Middle most value of ascending order values in other terms can be considered as below\n",
        ">> *   {(n+1)/2} th element in the sorted list (or)\n",
        ">> *   50th Percentile value of the sorted list\n",
        ">> \n",
        ">> Percentile : This is the termed with respect to index on any any scale typically on 0 to 100.\n",
        ">>\n",
        ">>\n",
        ">>*   50th Percentile means value at 50th position of the index of sorted values\n",
        ">>*   70th Percentile means value at 70th position of the index of sorted values\n",
        ">>*   95th Percentile means value at 95th position of the index of sorted values\n",
        "\n",
        "\n",
        "\n"
      ],
      "metadata": {
        "id": "LaOW-kPcuX4X"
      }
    },
    {
      "cell_type": "code",
      "execution_count": 58,
      "metadata": {
        "colab": {
          "base_uri": "https://localhost:8080/"
        },
        "id": "jyI5LvnQmq2R",
        "outputId": "37d5a6f1-b677-4989-d65f-fa7ac1319181"
      },
      "outputs": [
        {
          "output_type": "stream",
          "name": "stdout",
          "text": [
            "a. Median Value of Ages List is : 31\n",
            "b. Ages greater than 90 Percentile : [80, 82]\n"
          ]
        }
      ],
      "source": [
        "ages = [5,31,43,48,50,41,7,11,15,39,80,82,32,2,8,6,25,36,27,61,31]\n",
        "\n",
        "length_of_Ages=len(ages)                                                        # Assigning length of list to a varialble lenthofAges                                                    \n",
        "sorted_Ages=sorted(ages)                                                        # Assiging the sorted ages values list to a sortedAges varaible\n",
        "                                                    \n",
        "\n",
        "#### Apporoaching by median formula ####\n",
        "\n",
        "######  Median is {(n+1)/2} th element in the sorted list , where n is the length of list ######\n",
        "\n",
        "median_Position=(length_of_Ages+1)//2\n",
        "median_Value=sorted_Ages[median_Position-1]                                     #  As index starts from 0 , eg. index of 11 th positoion values will be 10, so substraing one from median position \n",
        "print(\"a. Median Value of Ages List is : {}\" .format(median_Value))\n",
        "\n",
        "# Percentile value is the position value of the sorted list \n",
        "# Median is the 50th Percentile value , similarly value at 70th percentile, 80t percentile, 90th percentile an be identified \n",
        "\n",
        "def position_Index(data,p):\n",
        "  length_of_inputData=len(data)\n",
        "  position= round(length_of_inputData* p /100)\n",
        "  return position-1                                                             # As index startes from 0, returning the actual index value insted of positionth value\n",
        "\n",
        "\n",
        "ninty_Percentile_Index= position_Index(sorted_Ages,90)\n",
        "print(\"b. Ages greater than 90 Percentile : {}\" .format(sorted_Ages[ninty_Percentile_Index+1:]))   # Greater than 90 Percentile required so printing values from nintyPercentileIndex+1\n",
        "\n",
        "\n",
        "\n",
        "\n"
      ]
    },
    {
      "cell_type": "markdown",
      "source": [
        ">> Above can be calculated using other librabires\n",
        ">>\n",
        ">> *   statistics( median and quantile function)\n",
        ">> *   numpy ( percentile funtion) \n",
        "\n"
      ],
      "metadata": {
        "id": "ykPGuDUAy8C2"
      }
    },
    {
      "cell_type": "markdown",
      "source": [
        "\n",
        "\n",
        "\n",
        "\n",
        "\n",
        "\n",
        "\n",
        "> ## **Answer 1.2**\n",
        "\n",
        "\n"
      ],
      "metadata": {
        "id": "x961E0HAo0It"
      }
    },
    {
      "cell_type": "code",
      "source": [
        "def sum_test(n):\n",
        "  sum = 0                                                                       # Defining a temporary Variable sum = 0 to use in output calculation\n",
        "  if (isinstance(n, int) == False or n < 0):                                    # Checkig if given input value is positive and integer\n",
        "    print(\"Only Positive values  or integers to be given\")\n",
        "  elif n == 0 :                                                                 # Checking if given value is zero\n",
        "    print(\"Sum of values is {}\" .format(sum))\n",
        "  else:\n",
        "    for i in range(1, n+1):                                                     # Defining for loop to iterate through values from 1 to till nth value      \n",
        "      sum = sum+i\n",
        "    return print(\"Sum of the total values till {} is : {}\".format(n,sum))       # Returning the calculated sum \n",
        "\n",
        "#sum_test(int(input(\" Please enter number:\")))                                  # Step to call the funtion with user input value commenting for now\n",
        "n=12                                                                            # Assigning 12 value to n valirable as per problem statement 1.2 \n",
        "sum_test(n)                                                                     # Calling the function with input n \n",
        "\n"
      ],
      "metadata": {
        "colab": {
          "base_uri": "https://localhost:8080/"
        },
        "id": "LQ8NGbVrRnYT",
        "outputId": "9abd345e-f2cb-47ad-e12a-66de5e27074f"
      },
      "execution_count": 59,
      "outputs": [
        {
          "output_type": "stream",
          "name": "stdout",
          "text": [
            "Sum of the total values till 12 is : 78\n"
          ]
        }
      ]
    },
    {
      "cell_type": "markdown",
      "source": [
        "\n",
        "\n",
        "> ## **Answer 1.3**\n",
        "\n"
      ],
      "metadata": {
        "id": "veyD8Om_086q"
      }
    },
    {
      "cell_type": "code",
      "source": [
        "while True:\n",
        "  try:                                                                          # Try except is to handle the execution of in case of any error received\n",
        "    score=int(input('Please_fill_your_score : '))                               # Taking User Input score to calculate grade         \n",
        "    if (score >= 90):                                                           # Checking for condition if score is greater than or equals to 90\n",
        "      print('Calculated Grade : HD')                                                   \n",
        "    elif (score <90 and score >= 80):                                           # Checking for condition if score is greater than or equals to 80 and less than 90\n",
        "      print('Calculated Grade : D')\n",
        "    elif (score <80 and score >= 70):                                           # Checking for condition if score is greater than or equals to 70 and less than 80\n",
        "      print('Calculated Grade : C')\n",
        "    elif (score <70 and score >= 60):                                           # Checking for condition if score is greater than or equals to 60 and less than 70 \n",
        "      print('Calculated Grade : P')\n",
        "    else:                                                                       # Checking for condition if score is less than 60\n",
        "      print('Calculated Grade : F')  \n",
        "    break                                                                       # After grade is calcuated we are breaking the loop execution to avoid going into infinity loop                                                                 \n",
        "  except:\n",
        "    print('Please enter interger score value to calculate grade ')              # In case of any error or exception recevied this message will be displayed to user\n"
      ],
      "metadata": {
        "colab": {
          "base_uri": "https://localhost:8080/"
        },
        "id": "QlGPKIyP9sog",
        "outputId": "ea4032e0-1e3c-408c-ef48-c26a56f7bdab"
      },
      "execution_count": 60,
      "outputs": [
        {
          "output_type": "stream",
          "name": "stdout",
          "text": [
            "Please_fill_your_score : a\n",
            "Please enter interger score value to calculate grade \n",
            "Please_fill_your_score : 71\n",
            "Calculated Grade : C\n"
          ]
        }
      ]
    },
    {
      "cell_type": "markdown",
      "source": [
        "\n",
        "\n",
        "> ## **Answer 1.4**\n"
      ],
      "metadata": {
        "id": "ltuei4gEoAul"
      }
    },
    {
      "cell_type": "code",
      "source": [
        "no_of_Lines=9                                                                   # Assigning no_of_Lines as 9 as defined in problem statement\n",
        "\n",
        "middle_Line_Number= (no_of_Lines+1)//2                                          # Determining the Middle line number to apply condition to print star pattern as per requirement \n",
        "\n",
        "num = 1                                                                         # Assignging num varaibale value as 1 in the initial \n",
        "while num>0:\n",
        "  if num <= middle_Line_Number :                                                # If condition to check if the num value is less than equal to middle_line_Number to print star in increasing fashion\n",
        "    print(\"*\"*num)\n",
        "    num=num+1                                                                   # Incrementing num value as per loop requirement\n",
        "  elif num < (no_of_Lines+1) :                                                  # Checking condition if num is less than (no_of_lines+1) to print star in decreasing fashion\n",
        "    print(((no_of_Lines+1)-num)*\"*\")\n",
        "    num=num+1\n",
        "  else:\n",
        "    break                                                                       # Breaking the loop after printing all lines\n",
        "\n"
      ],
      "metadata": {
        "colab": {
          "base_uri": "https://localhost:8080/"
        },
        "id": "5OMBNC8YEu8e",
        "outputId": "4951fd59-a69d-4cbe-9fc8-c96915976af3"
      },
      "execution_count": 61,
      "outputs": [
        {
          "output_type": "stream",
          "name": "stdout",
          "text": [
            "*\n",
            "**\n",
            "***\n",
            "****\n",
            "*****\n",
            "****\n",
            "***\n",
            "**\n",
            "*\n"
          ]
        }
      ]
    },
    {
      "cell_type": "markdown",
      "source": [
        "> ## **Answer 1.5**"
      ],
      "metadata": {
        "id": "U3lZGrqpHCjI"
      }
    },
    {
      "cell_type": "code",
      "source": [
        "test = \"aAsmr3idd4bgs7Dlsf9eAF\"                                                 # Assigning test string value as per problem statement         \n",
        "\n",
        "### Solution 1 ###\n",
        "## Approach using loop by checking element by element ## \n",
        "\n",
        "\n",
        "def find_Integers_1(test):                                                      # Defining a function which uses loop to find integers in the given input string\n",
        "  integer_Values=[]\n",
        "  for x in test:                                                                # For loop to check element by element\n",
        "    if x in \"[0,1,2,3,4,5,6,7,8,9]\":                                            # Condition to check if element is in the given list of intigers\n",
        "      integer_Values.append(x)                                                  # Appending the list with the integers found in the test string\n",
        "  return ''.join(integer_Values)                                                # Returning the string by joining all the elements of the new integers list\n",
        "\n",
        "result=find_Integers_1(test)                                                    # Calling find_Integers_1 function with given test string and assigning output to result variable\n",
        "print(\"The Result of Solution 1 is : {}\".format(result))\n",
        "\n",
        "\n",
        "\n",
        "### Solution 2 ###\n",
        "## Approch using inbuilt python library re for regex ##\n",
        "\n",
        "def find_Integers_2(test):                                                      #Defining a function which uses Regualr Expression library to find integers in the given input string\n",
        "  integer_Values=[]\n",
        "  regex_output_String = re.findall(\"[0-9]\",test)                                # Regex Findall funtiona is called to find the elements matching the [0-9] pattern in the given input string test\n",
        "  return ''.join(regex_output_String)                                           # Output findall function return a list so we are returning by joining the all integer elements\n",
        "  \n",
        "result = find_Integers_2(test)                                                  # Calling the find_integers_2 function with given test string and assigning output to result vraible\n",
        "print(\"The Result of Solution 2 is : {}\".format(result))\n",
        "\n",
        "\n",
        "\n",
        "\n",
        "\n"
      ],
      "metadata": {
        "colab": {
          "base_uri": "https://localhost:8080/"
        },
        "id": "5e3GFwWINSaz",
        "outputId": "fb853a23-3dda-4876-ecbe-9b8716f852ad"
      },
      "execution_count": 62,
      "outputs": [
        {
          "output_type": "stream",
          "name": "stdout",
          "text": [
            "The Result of Solution 1 is : 3479\n",
            "The Result of Solution 2 is : 3479\n"
          ]
        }
      ]
    },
    {
      "cell_type": "markdown",
      "source": [
        "> ## **Asnwer 1.6**"
      ],
      "metadata": {
        "id": "QXjbrGKs0k-k"
      }
    },
    {
      "cell_type": "code",
      "source": [
        "input_String='helloworldhelloPythonhelloc++hellojava'                           # Given Input String in problem statement\n",
        "find_String='hello'                                                             # Given find String in problem statement\n",
        "\n",
        "# output=inputString.index('hello')\n",
        "\n",
        "# outputIndex=re.finditer()\n",
        "\n",
        "\n",
        "def finda_all(input_Str,find_Str):                                              # Defining a function find_all which returns indices list of the match substings found\n",
        "  first_Index=[]                                                                # Initializing a list for add indices of the substring found\n",
        "  for found in re.finditer(find_Str,input_Str):                                 # finditer function returns all pattern matching iterators\n",
        "    first_Index.append(found.start())                                           # The start() method of the match object returns the starting index of the match\n",
        "  return first_Index                                        \n",
        "\n",
        "\n",
        "finda_all(input_String,find_String)                                             # Calling the find_all function\n"
      ],
      "metadata": {
        "colab": {
          "base_uri": "https://localhost:8080/"
        },
        "id": "WKIHalx60lMW",
        "outputId": "32b16079-e497-492f-9800-4c4b9ba5c970"
      },
      "execution_count": 63,
      "outputs": [
        {
          "output_type": "execute_result",
          "data": {
            "text/plain": [
              "[0, 10, 21, 29]"
            ]
          },
          "metadata": {},
          "execution_count": 63
        }
      ]
    },
    {
      "cell_type": "markdown",
      "source": [
        "> ## **Answer 1.7**"
      ],
      "metadata": {
        "id": "Ik2je55d0lTw"
      }
    },
    {
      "cell_type": "code",
      "source": [
        "class Person:                                                                   # Defining a class person\n",
        "  def __init__(self,name,age):                                                  # Defining the init methid for initializing the class \n",
        "    self.name=name\n",
        "    self.age=age\n",
        "  \n",
        "  def __str__(self):                                                            # Defining custom str method to retrun string in required format\n",
        "    return 'name: '+self.name+', age: '+ str(self.age)\n",
        "  \n",
        "  def Get_age(self):                                                            # Defining Get Age method to retrun age of the person \n",
        "    return self.age\n",
        "  \n",
        "  def Set_age(self,updatedAge):                                                 # Defining Set_Age method for updating the age object\n",
        "    self.age=updatedAge\n",
        "    return 'name: '+self.name+', age: '+ str(self.age)\n",
        "  \n",
        "\n",
        "daniel = Person('Daniel' ,50)\n",
        "print(daniel)\n",
        "daniel.Set_age(60)\n",
        "print(daniel.Get_age())\n",
        "print (daniel)\n",
        "\n",
        "\n"
      ],
      "metadata": {
        "colab": {
          "base_uri": "https://localhost:8080/"
        },
        "id": "lGgSEpKJ0lXx",
        "outputId": "335164cf-2fcb-441f-930c-4833ffe340d0"
      },
      "execution_count": 64,
      "outputs": [
        {
          "output_type": "stream",
          "name": "stdout",
          "text": [
            "name: Daniel, age: 50\n",
            "60\n",
            "name: Daniel, age: 60\n"
          ]
        }
      ]
    },
    {
      "cell_type": "markdown",
      "source": [
        "> ## **Answer 1.8**"
      ],
      "metadata": {
        "id": "OorsQxsu_KgF"
      }
    },
    {
      "cell_type": "code",
      "source": [
        "\n",
        "def permute(input_List):                                                        # Defning permute function to check the input list and retrun the possible combinations lists  \n",
        "  length_of_inputList = len(input_List)\n",
        "  \n",
        "  if length_of_inputList == 0:                                                  # Condition to check if given string is balnk and return empty list\n",
        "    return []\n",
        "\n",
        "  length_of_uniqueList = len(set(input_List))                                   # Storing the lenght of unique values in the given list using set as only unqiue values are \n",
        "  \n",
        "  if length_of_inputList != length_of_uniqueList:                               # Checking if all the given values are unique or not by comparing unique list length and actual list length\n",
        "    print(\"Please enter Unique  input nums List and try again\")\n",
        "    return None\n",
        "  \n",
        "  elif all(isinstance(element,int) for element in input_List) == False:         # Checking if all the given nums elements are integers \n",
        "    print(\"Please enter integers in nums List and try again\")\n",
        "    return None\n",
        "\n",
        "  elif length_of_inputList == 1:                                                # Checking if the given input list is having only one element and returning that element in list\n",
        "    return [input_List]\n",
        "  \n",
        "  all_combination_List = []                                                     # defining a varaible with empty list to add all combinations lists\n",
        "  for i in range(length_of_inputList):                                          # For loop to iterate through each list item and check other values combinations list\n",
        "    currentValue = input_List[i]                                                # Picking first element for checing other elements combinations list\n",
        "    remainingList= input_List[:i]+input_List[i+1:]                              # Slicing the given input list by ignoring the curent element value and storing as remaining list\n",
        "    for j in permute(remainingList):                                            # For loop to check the remaningList items permuations and adding this list to curnet element\n",
        "      all_combination_List.append([currentValue]+j)                             # Appending combination list \n",
        "  return all_combination_List                                                   # Returning the final combination list\n",
        "\n",
        "\n",
        "print(\"\"\"****Case 1 :**** \n",
        "***With dulicate values in list*** \"\"\")\n",
        "nums=[1,2,3,1,2]\n",
        "print(\"Input :\",nums,\"\\n\", \"Output :\",permute(nums),\"\\n\\n\\n\")                   # Case 1 to check duplicate values\n",
        "\n",
        "print(\"\"\"****Case 2 :**** \n",
        "***With unique nums list*** \"\"\")\n",
        "nums=[1,2,3]\n",
        "print(\"Input :\",nums,\"\\n\", \"Output :\",permute(nums),\"\\n\\n\\n\")                   # Case 2 to return pemute list to given input list\n",
        "\n",
        "print(\"\"\"****Case 3 :**** \n",
        "***With single value nums list*** \"\"\")\n",
        "nums=[1]\n",
        "print(\"Input :\",nums,\"\\n\", \"Output :\",permute(nums),\"\\n\\n\\n\")                   # Case 3 to return permute list when input list is having single element\n"
      ],
      "metadata": {
        "colab": {
          "base_uri": "https://localhost:8080/"
        },
        "id": "Pao57moiAM3u",
        "outputId": "3f6c84ee-13f2-4f4b-b46c-4b17149c5d41"
      },
      "execution_count": 65,
      "outputs": [
        {
          "output_type": "stream",
          "name": "stdout",
          "text": [
            "****Case 1 :**** \n",
            "***With dulicate values in list*** \n",
            "Please enter Unique  input nums List and try again\n",
            "Input : [1, 2, 3, 1, 2] \n",
            " Output : None \n",
            "\n",
            "\n",
            "\n",
            "****Case 2 :**** \n",
            "***With unique nums list*** \n",
            "Input : [1, 2, 3] \n",
            " Output : [[1, 2, 3], [1, 3, 2], [2, 1, 3], [2, 3, 1], [3, 1, 2], [3, 2, 1]] \n",
            "\n",
            "\n",
            "\n",
            "****Case 3 :**** \n",
            "***With single value nums list*** \n",
            "Input : [1] \n",
            " Output : [[1]] \n",
            "\n",
            "\n",
            "\n"
          ]
        }
      ]
    },
    {
      "cell_type": "markdown",
      "source": [
        "# **Part 2**"
      ],
      "metadata": {
        "id": "kZLMFUMfANs1"
      }
    },
    {
      "cell_type": "markdown",
      "source": [
        ">> ### **Defining and calling sum_digits function to identify question version to be attempted**"
      ],
      "metadata": {
        "id": "aCd9yD3RNA0z"
      }
    },
    {
      "cell_type": "code",
      "source": [
        "def sum_digits(n):\n",
        " r = 0\n",
        " while n :\n",
        "       r, n = r + n%10 , n//10\n",
        " return r\n",
        "\n",
        "def check_studentid(studentid):\n",
        " x = sum_digits(studentid)\n",
        " if x % 2 == 0 :\n",
        "      print ('version I')\n",
        " else:\n",
        "      print ('version II ')\n",
        " #replace the value by your studentID\n",
        "studentID=223019179\n",
        "check_studentid(studentID)"
      ],
      "metadata": {
        "colab": {
          "base_uri": "https://localhost:8080/"
        },
        "id": "IhWaeYTYf1pF",
        "outputId": "0ab7c6c3-bb31-4a62-a5d8-0bfb5293fb13"
      },
      "execution_count": 66,
      "outputs": [
        {
          "output_type": "stream",
          "name": "stdout",
          "text": [
            "version I\n"
          ]
        }
      ]
    },
    {
      "cell_type": "markdown",
      "source": [
        "> ## **Question 2( Version-I)**"
      ],
      "metadata": {
        "id": "oWoPUvPzNq4l"
      }
    },
    {
      "cell_type": "code",
      "source": [
        "def f1(x):\n",
        "\ta=(-x**2)+2*x\n",
        "\treturn a\n",
        "fig, ax=plt.subplots()\n",
        "ax.set_title('-x^2+2x')\n",
        "ax.plot(np.linspace(0,2,100),f1(np.linspace(0,2,100)),\n",
        "label='-x^2+2x')\n",
        "ax.fill_between(np.linspace(0,2,100),f1(np.linspace(0,2,100)))\n",
        "ax.legend()"
      ],
      "metadata": {
        "colab": {
          "base_uri": "https://localhost:8080/",
          "height": 298
        },
        "id": "QM_LgJ6Xf1wt",
        "outputId": "d7771f1b-3946-4cdb-9314-f536bc6949ed"
      },
      "execution_count": 67,
      "outputs": [
        {
          "output_type": "execute_result",
          "data": {
            "text/plain": [
              "<matplotlib.legend.Legend at 0x7fc70ccef590>"
            ]
          },
          "metadata": {},
          "execution_count": 67
        },
        {
          "output_type": "display_data",
          "data": {
            "text/plain": [
              "<Figure size 432x288 with 1 Axes>"
            ],
            "image/png": "[encoded data removed]"
          },
          "metadata": {
            "needs_background": "light"
          }
        }
      ]
    },
    {
      "cell_type": "markdown",
      "source": [
        "> ## **Answer 2.1 ( Version I)**"
      ],
      "metadata": {
        "id": "WxyEuemLOcLy"
      }
    },
    {
      "cell_type": "code",
      "source": [
        "def find_max(n):                                                                # Defining a function find_max to find the max values of the y for the given expression -(x**2)+2*x  \n",
        "  minX=-100                                                                     # Defining minX varaible as -100 as per problem statement\n",
        "  maxX=100                                                                      # Defining maxX variable as 100 per problem statement \n",
        "  max_f1=0                                                                      # Defining max_f1 varaible and initializing its values as 0\n",
        "  for i in np.linspace(minX,maxX,n):                                            # Iterating the loop between the min and max values of x and n samples\n",
        "    function_current_Value=f1(i)\n",
        "    if function_current_Value > max_f1:                                         # Checking if current function values is greathan the max_f1 then current value is assigned to max_f1\n",
        "      max_f1=function_current_Value\n",
        "    else:\n",
        "      continue\n",
        "  return max_f1                                                                 # Returning the max values found through all iterations\n",
        "\n",
        "\n",
        "### Finiding max value when x varies from -100 to 100 ###\n",
        "n=100000\n",
        "max_value=find_max(n)                                                             # Calling find_max function with given n samples\n",
        "print(\"Calculated max_val :{}\".format(max_value))\n",
        "max_value=round(max_value)                                                          # Rounding the max_val to integer\n",
        "print(\"Rounded max_val :{}\".format(max_value))\n",
        "\n"
      ],
      "metadata": {
        "colab": {
          "base_uri": "https://localhost:8080/"
        },
        "id": "O6jx1s3Nf10d",
        "outputId": "a59cb3d1-5100-4300-9b50-937e2dcb95f7"
      },
      "execution_count": 68,
      "outputs": [
        {
          "output_type": "stream",
          "name": "stdout",
          "text": [
            "Calculated max_val :0.9999990198803977\n",
            "Rounded max_val :1\n"
          ]
        }
      ]
    },
    {
      "cell_type": "markdown",
      "source": [
        "> ## **Answer 2.2 (Version I)**"
      ],
      "metadata": {
        "id": "0XurvJYTa7qZ"
      }
    },
    {
      "cell_type": "code",
      "source": [
        "def find_area(sample_num, max_value):                                           # Defining a function find_area which returns aread of the function f1(x) \n",
        "  inside_points_Count = 0                                                       # Defining varaible inside_points_count and initializing its values as 0\n",
        "  for i in range(sample_num):                                                   # For loop to iterate through n sample values\n",
        "    X = np.random.uniform(0,2)                                                  # Considereing random decimal values between given range with numpy random uniform function\n",
        "    Y = np.random.uniform(0,max_value)\n",
        "    if (Y <= -(X**2)+(2*X)) :                                                   # Checking if current Y value is less than the f1(x) and if yes taken Y value is undxer the curve hence \n",
        "      inside_points_Count+=1\n",
        "  \n",
        "\n",
        "  #### Finding area using monte carlo method #####\n",
        "  length_of_Rectangle = 2                                                       # length_of_Rectable is the  right corner x value of coordinate [2,0]\n",
        "  breadth_of_Rectable = max_value                                               # breadth_of_Rectable is the top right cirner y value of coordinate [2,max_value]\n",
        "  area_of_Rectangle = length_of_Rectangle*breadth_of_Rectable\n",
        "  points_ratio = inside_points_Count/sample_num                                  # Accordings to Monte carlo method ratio of no.of points inside curve to total no.of points to be determines\n",
        "  area_under_Curve = area_of_Rectangle * points_ratio                           # Area under curve is area of rectable r * ratio of points\n",
        "  \n",
        "  return area_under_Curve\n",
        "\n",
        "sample_num = 100000                                                             # Defining a varaible sample num and asigning 1000000 to it\n",
        "f1_function_area = find_area(sample_num, max_value)\n",
        "print(\" Area of the function f1(x) : {}\".format(f1_function_area))"
      ],
      "metadata": {
        "colab": {
          "base_uri": "https://localhost:8080/"
        },
        "id": "4tLdL7mE3iQi",
        "outputId": "27b5d117-a2c5-4689-d4f7-b59175bfd8ea"
      },
      "execution_count": 69,
      "outputs": [
        {
          "output_type": "stream",
          "name": "stdout",
          "text": [
            " Area of the function f1(x) : 1.32642\n"
          ]
        }
      ]
    },
    {
      "cell_type": "markdown",
      "source": [
        ">>* Monte Carlo Method can be used to calcute area under any graph or function\n",
        ">>* Output will much near to actual value\n",
        ">>* This will method is quick in calculating, execution time is very much minimal\n"
      ],
      "metadata": {
        "id": "tE8PzZ_2UiGv"
      }
    }
  ]
}